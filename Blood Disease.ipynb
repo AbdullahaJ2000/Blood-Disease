{
 "cells": [
  {
   "cell_type": "markdown",
   "metadata": {
    "id": "P5GI70wI-at2"
   },
   "source": [
    "***\n",
    "# 1- Get the Data\n",
    "***"
   ]
  },
  {
   "cell_type": "code",
   "execution_count": 1,
   "metadata": {
    "execution": {
     "iopub.execute_input": "2023-01-16T09:15:24.978667Z",
     "iopub.status.busy": "2023-01-16T09:15:24.978158Z",
     "iopub.status.idle": "2023-01-16T09:15:27.485796Z",
     "shell.execute_reply": "2023-01-16T09:15:27.484559Z",
     "shell.execute_reply.started": "2023-01-16T09:15:24.978571Z"
    },
    "id": "XiLg1-mc-at2"
   },
   "outputs": [
    {
     "data": {
      "text/html": [
       "<style type='text/css'>\n",
       ".datatable table.frame { margin-bottom: 0; }\n",
       ".datatable table.frame thead { border-bottom: none; }\n",
       ".datatable table.frame tr.coltypes td {  color: #FFFFFF;  line-height: 6px;  padding: 0 0.5em;}\n",
       ".datatable .bool    { background: #DDDD99; }\n",
       ".datatable .object  { background: #565656; }\n",
       ".datatable .int     { background: #5D9E5D; }\n",
       ".datatable .float   { background: #4040CC; }\n",
       ".datatable .str     { background: #CC4040; }\n",
       ".datatable .time    { background: #40CC40; }\n",
       ".datatable .row_index {  background: var(--jp-border-color3);  border-right: 1px solid var(--jp-border-color0);  color: var(--jp-ui-font-color3);  font-size: 9px;}\n",
       ".datatable .frame tbody td { text-align: left; }\n",
       ".datatable .frame tr.coltypes .row_index {  background: var(--jp-border-color0);}\n",
       ".datatable th:nth-child(2) { padding-left: 12px; }\n",
       ".datatable .hellipsis {  color: var(--jp-cell-editor-border-color);}\n",
       ".datatable .vellipsis {  background: var(--jp-layout-color0);  color: var(--jp-cell-editor-border-color);}\n",
       ".datatable .na {  color: var(--jp-cell-editor-border-color);  font-size: 80%;}\n",
       ".datatable .sp {  opacity: 0.25;}\n",
       ".datatable .footer { font-size: 9px; }\n",
       ".datatable .frame_dimensions {  background: var(--jp-border-color3);  border-top: 1px solid var(--jp-border-color0);  color: var(--jp-ui-font-color3);  display: inline-block;  opacity: 0.6;  padding: 1px 10px 1px 5px;}\n",
       "</style>\n"
      ],
      "text/plain": [
       "<IPython.core.display.HTML object>"
      ]
     },
     "metadata": {},
     "output_type": "display_data"
    }
   ],
   "source": [
    "import numpy as np\n",
    "import pandas as pd\n",
    "import seaborn as sns\n",
    "import matplotlib.pyplot as plt\n",
    "import os\n",
    "import cv2\n",
    "from sklearn.svm import SVC\n",
    "from pathlib import Path\n",
    "from PIL import Image\n",
    "from sklearn.neighbors import KNeighborsClassifier\n",
    "from xgboost import XGBClassifier \n",
    "from lightgbm import LGBMClassifier\n",
    "from sklearn.model_selection import train_test_split\n",
    "from sklearn.metrics import accuracy_score\n",
    "from sklearn.metrics import ConfusionMatrixDisplay\n",
    "import random\n",
    "from sklearn.metrics import accuracy_score, confusion_matrix,ConfusionMatrixDisplay ,classification_report\n",
    "from sklearn.model_selection import learning_curve \n",
    "from sklearn.metrics import classification_report\n",
    "import imgaug.augmenters as iaa\n",
    "from sklearn.linear_model import SGDClassifier\n",
    "from sklearn.ensemble import RandomForestClassifier\n",
    "from warnings import simplefilter\n",
    "simplefilter(action=\"ignore\", category=pd.errors.PerformanceWarning)"
   ]
  },
  {
   "cell_type": "code",
   "execution_count": 2,
   "metadata": {
    "colab": {
     "base_uri": "https://localhost:8080/"
    },
    "execution": {
     "iopub.execute_input": "2023-01-16T09:15:27.489044Z",
     "iopub.status.busy": "2023-01-16T09:15:27.487901Z",
     "iopub.status.idle": "2023-01-16T09:15:27.676800Z",
     "shell.execute_reply": "2023-01-16T09:15:27.675534Z",
     "shell.execute_reply.started": "2023-01-16T09:15:27.488981Z"
    },
    "id": "eVGWySOznG8u",
    "outputId": "a4fd15b9-a81d-4724-a208-3440c21ab08f"
   },
   "outputs": [],
   "source": [
    "\n",
    "image_names = os.listdir(\"/kaggle/input/bdcbtae/bdcbtae/Images\")"
   ]
  },
  {
   "cell_type": "code",
   "execution_count": 3,
   "metadata": {
    "colab": {
     "base_uri": "https://localhost:8080/"
    },
    "execution": {
     "iopub.execute_input": "2023-01-16T09:15:27.678521Z",
     "iopub.status.busy": "2023-01-16T09:15:27.678115Z",
     "iopub.status.idle": "2023-01-16T09:15:27.699257Z",
     "shell.execute_reply": "2023-01-16T09:15:27.698289Z",
     "shell.execute_reply.started": "2023-01-16T09:15:27.678491Z"
    },
    "id": "OAuKQcoH0ppL",
    "outputId": "7def04b3-c005-40df-ebb3-17e14e5535c8"
   },
   "outputs": [
    {
     "data": {
      "text/plain": [
       "(56, 1)"
      ]
     },
     "execution_count": 3,
     "metadata": {},
     "output_type": "execute_result"
    }
   ],
   "source": [
    "test= pd.read_csv(\"/kaggle/input/bdcbtae/bdcbtae/test.csv\")\n",
    "test.shape"
   ]
  },
  {
   "cell_type": "code",
   "execution_count": 4,
   "metadata": {
    "colab": {
     "base_uri": "https://localhost:8080/"
    },
    "execution": {
     "iopub.execute_input": "2023-01-16T09:15:27.701517Z",
     "iopub.status.busy": "2023-01-16T09:15:27.701208Z",
     "iopub.status.idle": "2023-01-16T09:15:27.715889Z",
     "shell.execute_reply": "2023-01-16T09:15:27.715045Z",
     "shell.execute_reply.started": "2023-01-16T09:15:27.701490Z"
    },
    "id": "6HSHf453l9xc",
    "outputId": "055bc703-efac-4b1b-8350-f63a988d69bb"
   },
   "outputs": [
    {
     "data": {
      "text/plain": [
       "(223, 2)"
      ]
     },
     "execution_count": 4,
     "metadata": {},
     "output_type": "execute_result"
    }
   ],
   "source": [
    "data= pd.read_csv(\"/kaggle/input/bdcbtae/bdcbtae/train.csv\")\n",
    "data.shape "
   ]
  },
  {
   "cell_type": "markdown",
   "metadata": {
    "id": "RiR24IgvImk3"
   },
   "source": [
    "#### Dispaly code . "
   ]
  },
  {
   "cell_type": "code",
   "execution_count": 5,
   "metadata": {
    "colab": {
     "base_uri": "https://localhost:8080/",
     "height": 0
    },
    "execution": {
     "iopub.execute_input": "2023-01-16T09:15:28.532964Z",
     "iopub.status.busy": "2023-01-16T09:15:28.532280Z",
     "iopub.status.idle": "2023-01-16T09:15:28.564489Z",
     "shell.execute_reply": "2023-01-16T09:15:28.563492Z",
     "shell.execute_reply.started": "2023-01-16T09:15:28.532928Z"
    },
    "id": "Vq4nzAUEImk5",
    "outputId": "467a4ecb-99e6-4f0c-9e7d-e4335a526427"
   },
   "outputs": [
    {
     "data": {
      "text/html": [
       "<div>\n",
       "<style scoped>\n",
       "    .dataframe tbody tr th:only-of-type {\n",
       "        vertical-align: middle;\n",
       "    }\n",
       "\n",
       "    .dataframe tbody tr th {\n",
       "        vertical-align: top;\n",
       "    }\n",
       "\n",
       "    .dataframe thead th {\n",
       "        text-align: right;\n",
       "    }\n",
       "</style>\n",
       "<table border=\"1\" class=\"dataframe\">\n",
       "  <thead>\n",
       "    <tr style=\"text-align: right;\">\n",
       "      <th></th>\n",
       "      <th>Image</th>\n",
       "    </tr>\n",
       "  </thead>\n",
       "  <tbody>\n",
       "    <tr>\n",
       "      <th>count</th>\n",
       "      <td>223.000000</td>\n",
       "    </tr>\n",
       "    <tr>\n",
       "      <th>mean</th>\n",
       "      <td>212.986547</td>\n",
       "    </tr>\n",
       "    <tr>\n",
       "      <th>std</th>\n",
       "      <td>116.855092</td>\n",
       "    </tr>\n",
       "    <tr>\n",
       "      <th>min</th>\n",
       "      <td>0.000000</td>\n",
       "    </tr>\n",
       "    <tr>\n",
       "      <th>25%</th>\n",
       "      <td>114.500000</td>\n",
       "    </tr>\n",
       "    <tr>\n",
       "      <th>50%</th>\n",
       "      <td>218.000000</td>\n",
       "    </tr>\n",
       "    <tr>\n",
       "      <th>75%</th>\n",
       "      <td>307.500000</td>\n",
       "    </tr>\n",
       "    <tr>\n",
       "      <th>max</th>\n",
       "      <td>409.000000</td>\n",
       "    </tr>\n",
       "  </tbody>\n",
       "</table>\n",
       "</div>"
      ],
      "text/plain": [
       "            Image\n",
       "count  223.000000\n",
       "mean   212.986547\n",
       "std    116.855092\n",
       "min      0.000000\n",
       "25%    114.500000\n",
       "50%    218.000000\n",
       "75%    307.500000\n",
       "max    409.000000"
      ]
     },
     "execution_count": 5,
     "metadata": {},
     "output_type": "execute_result"
    }
   ],
   "source": [
    "pd.set_option('display.max_columns', None)\n",
    "data.describe()"
   ]
  },
  {
   "cell_type": "code",
   "execution_count": 6,
   "metadata": {
    "colab": {
     "base_uri": "https://localhost:8080/",
     "height": 0
    },
    "execution": {
     "iopub.execute_input": "2023-01-16T09:15:28.923604Z",
     "iopub.status.busy": "2023-01-16T09:15:28.922868Z",
     "iopub.status.idle": "2023-01-16T09:15:28.931408Z",
     "shell.execute_reply": "2023-01-16T09:15:28.930175Z",
     "shell.execute_reply.started": "2023-01-16T09:15:28.923565Z"
    },
    "id": "3-htBll15c7z",
    "outputId": "29126eeb-afd0-4a83-de43-a44f3bc1e939"
   },
   "outputs": [
    {
     "data": {
      "text/plain": [
       "'\\nimgs = [img.name for img in Path(\"/content/drive/MyDrive/Images\").iterdir() if img.suffix == \".jpg\"]\\nimg_meta = {}\\nfor f in imgs: img_meta[str(f)] = imagesize.get(\"/content/drive/MyDrive/Images/\"+f)\\n\\nimg_meta_df = pd.DataFrame.from_dict([img_meta]).T.reset_index().set_axis([\\'FileName\\', \\'Size\\'], axis=\\'columns\\', inplace=False)\\nimg_meta_df[[\"Width\", \"Height\"]] = pd.DataFrame(img_meta_df[\"Size\"].tolist(), index=img_meta_df.index)\\nimg_meta_df[\"Aspect Ratio\"] = round(img_meta_df[\"Width\"] / img_meta_df[\"Height\"], 2)\\nimg_meta_df[\"number\"]=img_meta_df[\"FileName\"].map(lambda x: int(x[-7:-4]))\\nimg_meta_df.set_index(\"number\",inplace=True)\\n\\ndata.set_index(\"Image\",inplace=True)\\nttrain=img_meta_df.join(data,how=\\'right\\')\\nttrain.head()\\n\\ntest.set_index(\"Image\",inplace=True)\\nttest=img_meta_df.join(test,how=\\'right\\')\\nttest.head()\\n'"
      ]
     },
     "execution_count": 6,
     "metadata": {},
     "output_type": "execute_result"
    }
   ],
   "source": [
    "\"\"\"\n",
    "imgs = [img.name for img in Path(\"/content/drive/MyDrive/Images\").iterdir() if img.suffix == \".jpg\"]\n",
    "img_meta = {}\n",
    "for f in imgs: img_meta[str(f)] = imagesize.get(\"/content/drive/MyDrive/Images/\"+f)\n",
    "\n",
    "img_meta_df = pd.DataFrame.from_dict([img_meta]).T.reset_index().set_axis(['FileName', 'Size'], axis='columns', inplace=False)\n",
    "img_meta_df[[\"Width\", \"Height\"]] = pd.DataFrame(img_meta_df[\"Size\"].tolist(), index=img_meta_df.index)\n",
    "img_meta_df[\"Aspect Ratio\"] = round(img_meta_df[\"Width\"] / img_meta_df[\"Height\"], 2)\n",
    "img_meta_df[\"number\"]=img_meta_df[\"FileName\"].map(lambda x: int(x[-7:-4]))\n",
    "img_meta_df.set_index(\"number\",inplace=True)\n",
    "\n",
    "data.set_index(\"Image\",inplace=True)\n",
    "ttrain=img_meta_df.join(data,how='right')\n",
    "ttrain.head()\n",
    "\n",
    "test.set_index(\"Image\",inplace=True)\n",
    "ttest=img_meta_df.join(test,how='right')\n",
    "ttest.head()\n",
    "\"\"\""
   ]
  },
  {
   "cell_type": "markdown",
   "metadata": {
    "id": "o4H2H4mfRjTx"
   },
   "source": [
    "***\n",
    "# 2- Feature Extraction\n",
    "***"
   ]
  },
  {
   "cell_type": "code",
   "execution_count": 7,
   "metadata": {
    "execution": {
     "iopub.execute_input": "2023-01-16T09:15:30.399331Z",
     "iopub.status.busy": "2023-01-16T09:15:30.398901Z",
     "iopub.status.idle": "2023-01-16T09:15:30.420895Z",
     "shell.execute_reply": "2023-01-16T09:15:30.419638Z",
     "shell.execute_reply.started": "2023-01-16T09:15:30.399297Z"
    },
    "id": "_hy5arJkpuLD"
   },
   "outputs": [],
   "source": [
    "NEUTROPHIL_ind = []\n",
    "EOSINOPHIL_ind = []\n",
    "LYMPHOCYTE_ind = []\n",
    "MONOCYTE_ind = []\n",
    "for i in range(223):\n",
    "  if data.Category.loc[i] == \"NEUTROPHIL\":\n",
    "    NEUTROPHIL_ind.append(data.Image.loc[i])\n",
    "  elif data.Category.loc[i] == \"EOSINOPHIL\":\n",
    "    EOSINOPHIL_ind.append(data.Image.loc[i])\n",
    "  elif data.Category.loc[i] == \"LYMPHOCYTE\":\n",
    "    LYMPHOCYTE_ind.append(data.Image.loc[i])\n",
    "  elif data.Category.loc[i] == \"MONOCYTE\":\n",
    "    MONOCYTE_ind.append(data.Image.loc[i])\n"
   ]
  },
  {
   "cell_type": "code",
   "execution_count": 8,
   "metadata": {
    "execution": {
     "iopub.execute_input": "2023-01-16T09:15:31.534811Z",
     "iopub.status.busy": "2023-01-16T09:15:31.534418Z",
     "iopub.status.idle": "2023-01-16T09:15:31.544445Z",
     "shell.execute_reply": "2023-01-16T09:15:31.543195Z",
     "shell.execute_reply.started": "2023-01-16T09:15:31.534769Z"
    },
    "id": "9tdfTzJXduom"
   },
   "outputs": [],
   "source": [
    "ind = list(data.Image)\n",
    "train_name = []\n",
    "for x in image_names:\n",
    "  if int(x[-7:-4]) in ind :\n",
    "    train_name.append(x)\n",
    "ind = list(test.Image)\n",
    "test_name = []\n",
    "for x in image_names:\n",
    "  if int(x[-7:-4]) in ind :\n",
    "    test_name.append(x)"
   ]
  },
  {
   "cell_type": "code",
   "execution_count": 9,
   "metadata": {
    "execution": {
     "iopub.execute_input": "2023-01-16T09:15:32.299638Z",
     "iopub.status.busy": "2023-01-16T09:15:32.299231Z",
     "iopub.status.idle": "2023-01-16T09:15:34.828420Z",
     "shell.execute_reply": "2023-01-16T09:15:34.827448Z",
     "shell.execute_reply.started": "2023-01-16T09:15:32.299604Z"
    },
    "id": "rjnvP3SmcrQN"
   },
   "outputs": [],
   "source": [
    "NEUTROPHIL_images = []\n",
    "EOSINOPHIL_images = []\n",
    "LYMPHOCYTE_images = []\n",
    "MONOCYTE_images = []\n",
    "for name in train_name:  \n",
    "    if int(name[-7:-4]) in NEUTROPHIL_ind:\n",
    "        img_path = f\"/kaggle/input/bdcbtae/bdcbtae/Images/{name}\"\n",
    "        name = cv2.imread(img_path)\n",
    "        NEUTROPHIL_images.append(name)\n",
    "    elif int(name[-7:-4]) in EOSINOPHIL_ind:\n",
    "        img_path = f\"/kaggle/input/bdcbtae/bdcbtae/Images/{name}\"\n",
    "        name = cv2.imread(img_path)\n",
    "        EOSINOPHIL_images.append(name)\n",
    "    elif int(name[-7:-4]) in LYMPHOCYTE_ind:\n",
    "        img_path = f\"/kaggle/input/bdcbtae/bdcbtae/Images/{name}\"\n",
    "        name = cv2.imread(img_path)\n",
    "        LYMPHOCYTE_images.append(name)\n",
    "    elif int(name[-7:-4]) in MONOCYTE_ind:\n",
    "        img_path = f\"/kaggle/input/bdcbtae/bdcbtae/Images/{name}\"\n",
    "        name = cv2.imread(img_path)\n",
    "        MONOCYTE_images.append(name)\n"
   ]
  },
  {
   "cell_type": "code",
   "execution_count": 12,
   "metadata": {
    "execution": {
     "iopub.execute_input": "2023-01-16T09:17:57.889425Z",
     "iopub.status.busy": "2023-01-16T09:17:57.889028Z",
     "iopub.status.idle": "2023-01-16T09:17:57.895440Z",
     "shell.execute_reply": "2023-01-16T09:17:57.894317Z",
     "shell.execute_reply.started": "2023-01-16T09:17:57.889395Z"
    }
   },
   "outputs": [],
   "source": [
    "sigma=3\n",
    "theta=1*np.pi/4\n",
    "lamda=1*np.pi/4\n",
    "gamma=0.4\n",
    "phi=0"
   ]
  },
  {
   "cell_type": "code",
   "execution_count": 13,
   "metadata": {
    "colab": {
     "base_uri": "https://localhost:8080/"
    },
    "execution": {
     "iopub.execute_input": "2023-01-16T09:18:03.961962Z",
     "iopub.status.busy": "2023-01-16T09:18:03.960727Z",
     "iopub.status.idle": "2023-01-16T09:18:06.834902Z",
     "shell.execute_reply": "2023-01-16T09:18:06.833918Z",
     "shell.execute_reply.started": "2023-01-16T09:18:03.961908Z"
    },
    "id": "jwQYj67dRWH_",
    "outputId": "fda8c7fa-01a7-4eb6-9ace-368b2aa124a4"
   },
   "outputs": [],
   "source": [
    "df=pd.DataFrame()\n",
    "\n",
    "for name in train_name :\n",
    "    img_path = f\"/kaggle/input/bdcbtae/bdcbtae/Images/{name}\"\n",
    "    img = cv2.imread(img_path)\n",
    "    img1=cv2.cvtColor(img,cv2.COLOR_RGB2GRAY)\n",
    "    #kernal=cv2.getGaborKernel((40,40),sigma,theta,lamda,gamma,phi,ktype=cv2.CV_32F)\n",
    "    #fimg=cv2.filter2D(img1,cv2.CV_8UC3,kernal)\n",
    "    resized = cv2.resize(img1, (128,128))\n",
    "    refigm=resized.reshape(-1)\n",
    "    df[int(name[-7:-4])]=refigm\n",
    "#df=df.transpose()\n",
    "#len(df)"
   ]
  },
  {
   "cell_type": "code",
   "execution_count": null,
   "metadata": {},
   "outputs": [],
   "source": []
  },
  {
   "cell_type": "code",
   "execution_count": 14,
   "metadata": {
    "execution": {
     "iopub.execute_input": "2023-01-16T09:18:07.807437Z",
     "iopub.status.busy": "2023-01-16T09:18:07.806289Z",
     "iopub.status.idle": "2023-01-16T09:18:08.821181Z",
     "shell.execute_reply": "2023-01-16T09:18:08.819950Z",
     "shell.execute_reply.started": "2023-01-16T09:18:07.807382Z"
    },
    "id": "ulzv9qqTlAPC"
   },
   "outputs": [],
   "source": [
    "testf=pd.DataFrame()\n",
    "\n",
    "for name in test_name :\n",
    "    img_path = f\"/kaggle/input/bdcbtae/bdcbtae/Images/{name}\"\n",
    "    img = cv2.imread(img_path)\n",
    "    img1=cv2.cvtColor(img,cv2.COLOR_RGB2GRAY)\n",
    "    #kernal=cv2.getGaborKernel((40,40),sigma,theta,lamda,gamma,phi,ktype=cv2.CV_32F)\n",
    "    #fimg=cv2.filter2D(img1,cv2.CV_8UC3,kernal)\n",
    "    resized = cv2.resize(img1, (128,128))\n",
    "    refigm=resized.reshape(-1)\n",
    "    testf[int(name[-7:-4])]=refigm\n",
    "#testf=testf.transpose()\n",
    "#len(testf)"
   ]
  },
  {
   "cell_type": "markdown",
   "metadata": {
    "id": "jwD0dNi9XL1C"
   },
   "source": [
    "***\n",
    "# 3- Augmentation\n",
    "***"
   ]
  },
  {
   "cell_type": "code",
   "execution_count": 15,
   "metadata": {
    "execution": {
     "iopub.execute_input": "2023-01-16T09:18:11.347808Z",
     "iopub.status.busy": "2023-01-16T09:18:11.346736Z",
     "iopub.status.idle": "2023-01-16T09:18:11.368539Z",
     "shell.execute_reply": "2023-01-16T09:18:11.367423Z",
     "shell.execute_reply.started": "2023-01-16T09:18:11.347733Z"
    },
    "id": "fJ8JwGE5qQGW"
   },
   "outputs": [],
   "source": [
    "import imgaug.augmenters as iaa\n",
    "\n",
    "def flip(pic):\n",
    "  augmentation = iaa.Sequential([iaa.Fliplr(random.random()),iaa.Flipud(random.random())])\n",
    "  pic = augmentation(images=pic)\n",
    "  return pic\n",
    "def GaussianBlur(pic):\n",
    "  augmentation = iaa.Sequential([iaa.GaussianBlur((random.uniform(1,5), random.uniform(1,5)))])\n",
    "  pic = augmentation(images=pic)\n",
    "  return pic\n",
    "def Affine(pic):\n",
    "  augmentation = iaa.Sequential([iaa.Affine(translate_percent={\"x\": (-1*random.random(), random.random()), \"y\": ((-1*random.random(), random.random()))},rotate=(-1*random.randint(30,90), random.randint(30,90)),scale=(0.001+random.random(), 0.001+2*random.random()))])\n",
    "  pic = augmentation(images=pic)\n",
    "  return pic\n",
    "def HistogramEqualization(pic):\n",
    "  augmentation=iaa.Sequential(iaa.Alpha((random.random(), random.random()), iaa.AllChannelsHistogramEqualization()))\n",
    "  pic = augmentation(images=pic)\n",
    "  return pic\n",
    "def Autocontrast(pic):\n",
    "  aug = iaa.pillike.Autocontrast()\n",
    "  augmentation=iaa.pillike.Autocontrast((10, 20), per_channel=True)\n",
    "  pic=augmentation(images=pic)\n",
    "  return pic\n",
    "def rotation(pic):\n",
    "  augmentation = iaa.Sequential([iaa.Affine(rotate=(-1*random.randint(30,90), random.randint(30,90)))])\n",
    "  pic = augmentation(images=pic)\n",
    "  return pic\n",
    "def scaling(pic):\n",
    "  augmentation = iaa.Sequential([iaa.Affine(scale=(0.001+random.uniform(0,20), 0.001+2*random.uniform(0,19)))])\n",
    "  pic = augmentation(images=pic)\n",
    "  return pic\n",
    "def translate(pic):\n",
    "  augmentation = iaa.Sequential([iaa.Affine(translate_percent={\"x\": (-1*random.uniform(0,10), random.uniform(0,10)), \"y\": ((-1*random.uniform(0,15), random.uniform(0,15)))})])\n",
    "  pic = augmentation(images=pic)\n",
    "  return pic\n",
    "def  FilterEdgeEnhanceMore(pic):\n",
    "  augmentation=iaa.Sequential(iaa.pillike.FilterEdgeEnhanceMore())\n",
    "  pic = augmentation(images=pic)\n",
    "  return pic \n",
    "def  ChannelShuffle(pic):\n",
    "  augmentation=iaa.Sequential(iaa.ChannelShuffle(random.random()))\n",
    "  pic = augmentation(images=pic)\n",
    "  return pic \n",
    "def  MotionBlur(pic):\n",
    "  augmentation=iaa.Sequential(iaa.MotionBlur(k=random.randint(3,15)))\n",
    "  pic = augmentation(images=pic)\n",
    "  return pic \n",
    "def  DirectedEdgeDetect(pic):\n",
    "  augmentation=iaa.Sequential(iaa.DirectedEdgeDetect(alpha=(0.0, 1.0), direction=(0.0, 1.0)))\n",
    "  pic = augmentation(images=pic)\n",
    "  return pic \n",
    "def  Clouds(pic):\n",
    "  augmentation=iaa.Sequential(iaa.Clouds())\n",
    "  pic = augmentation(images=pic)\n",
    "  return pic\n",
    "def  Rain(pic):\n",
    "  a=random.random()\n",
    "  augmentation=iaa.Sequential(iaa.Rain(speed=(a, a+random.random())))\n",
    "  pic = augmentation(images=pic)\n",
    "  return pic \n",
    "\n"
   ]
  },
  {
   "cell_type": "code",
   "execution_count": 16,
   "metadata": {
    "execution": {
     "iopub.execute_input": "2023-01-16T09:18:12.239603Z",
     "iopub.status.busy": "2023-01-16T09:18:12.239171Z",
     "iopub.status.idle": "2023-01-16T09:18:12.244748Z",
     "shell.execute_reply": "2023-01-16T09:18:12.243613Z",
     "shell.execute_reply.started": "2023-01-16T09:18:12.239570Z"
    },
    "id": "ORHp5X2KCcU3"
   },
   "outputs": [],
   "source": [
    "NEU_name=NEUTROPHIL_images\n",
    "EOS_name=EOSINOPHIL_images\n",
    "LYM_name=LYMPHOCYTE_images\n",
    "MON_name=MONOCYTE_images"
   ]
  },
  {
   "cell_type": "code",
   "execution_count": null,
   "metadata": {},
   "outputs": [],
   "source": []
  },
  {
   "cell_type": "code",
   "execution_count": 17,
   "metadata": {
    "colab": {
     "base_uri": "https://localhost:8080/"
    },
    "execution": {
     "iopub.execute_input": "2023-01-16T09:18:13.124220Z",
     "iopub.status.busy": "2023-01-16T09:18:13.123836Z",
     "iopub.status.idle": "2023-01-16T09:18:13.131365Z",
     "shell.execute_reply": "2023-01-16T09:18:13.130343Z",
     "shell.execute_reply.started": "2023-01-16T09:18:13.124191Z"
    },
    "id": "wemOxIxrGPF5",
    "outputId": "67f6fe9e-75ab-4cce-9db7-ebbca6bae435"
   },
   "outputs": [
    {
     "data": {
      "text/plain": [
       "140"
      ]
     },
     "execution_count": 17,
     "metadata": {},
     "output_type": "execute_result"
    }
   ],
   "source": [
    "NEU_num=len(NEU_name)\n",
    "NEU_num"
   ]
  },
  {
   "cell_type": "code",
   "execution_count": 18,
   "metadata": {
    "execution": {
     "iopub.execute_input": "2023-01-16T09:18:15.225769Z",
     "iopub.status.busy": "2023-01-16T09:18:15.225356Z",
     "iopub.status.idle": "2023-01-16T09:18:15.248194Z",
     "shell.execute_reply": "2023-01-16T09:18:15.247348Z",
     "shell.execute_reply.started": "2023-01-16T09:18:15.225721Z"
    },
    "id": "7Jz3RpYpKPkx"
   },
   "outputs": [],
   "source": [
    "\n",
    "augmented_images_cat = {}\n",
    "NEU_num=len(NEU_name)\n",
    "EOS_num=len(EOS_name)\n",
    "LYM_num=len(LYM_name)\n",
    "MON_num=len(MON_name)\n",
    "cat_num = {\"NEUTROPHIL\":NEU_num,\"EOSINOPHIL\":EOS_num,\"LYMPHOCYTE\":LYM_num,\"MONOCYTE\":MON_num}\n",
    "def Augmentation(categories,counter1,function):\n",
    "    if list(categories.keys())[0] == \"all\" and len(categories)==1:\n",
    "        limit=list(categories.values())[0]\n",
    "        NEU_num=len(NEU_name)\n",
    "        EOS_num=len(EOS_name)\n",
    "        LYM_num=len(LYM_name)\n",
    "        MON_num=len(MON_name)\n",
    "        while NEU_num  < limit:\n",
    "            img=  random.choice(NEUTROPHIL_images)\n",
    "            img= function(img)\n",
    "            NEU_name.append(img)\n",
    "            img1=cv2.cvtColor(img,cv2.COLOR_RGB2GRAY)\n",
    "            #kernal=cv2.getGaborKernel((40,40),sigma,theta,lamda,gamma,phi,ktype=cv2.CV_32F)\n",
    "            #fimg=cv2.filter2D(img1,cv2.CV_8UC3,kernal)\n",
    "            resized = cv2.resize(img1, (128,128))\n",
    "            refigm=resized.reshape(-1)\n",
    "            df[counter1]=refigm\n",
    "            augmented_images_cat.update({counter1:\"NEUTROPHIL\"})\n",
    "            counter1+=1\n",
    "            NEU_num+=1\n",
    "        while EOS_num  < limit:\n",
    "            img=  random.choice(EOSINOPHIL_images)\n",
    "            img= function(img)\n",
    "            EOS_name.append(img)\n",
    "            img1=cv2.cvtColor(img,cv2.COLOR_RGB2GRAY)\n",
    "            #kernal=cv2.getGaborKernel((40,40),sigma,theta,lamda,gamma,phi,ktype=cv2.CV_32F)\n",
    "            #fimg=cv2.filter2D(img1,cv2.CV_8UC3,kernal)\n",
    "            resized = cv2.resize(fimg, (128,128))\n",
    "            refigm=resized.reshape(-1)\n",
    "            df[counter1]=refigm\n",
    "            augmented_images_cat.update({counter1:\"EOSINOPHIL\"})\n",
    "            counter1+=1\n",
    "            EOS_num+=1\n",
    "        while LYM_num  < limit:\n",
    "            img=  random.choice(LYMPHOCYTE_images)\n",
    "            img= function(img)\n",
    "            LYM_name.append(img)\n",
    "            img1=cv2.cvtColor(img,cv2.COLOR_RGB2GRAY)\n",
    "            #kernal=cv2.getGaborKernel((40,40),sigma,theta,lamda,gamma,phi,ktype=cv2.CV_32F)\n",
    "            #fimg=cv2.filter2D(img1,cv2.CV_8UC3,kernal)\n",
    "            resized = cv2.resize(img1, (128,128))\n",
    "            refigm=resized.reshape(-1)\n",
    "            df[counter1]=refigm\n",
    "            augmented_images_cat.update({counter1:\"LYMPHOCYTE\"})\n",
    "            counter1+=1\n",
    "            LYM_num+=1\n",
    "        while MON_num  < limit:\n",
    "            img=  random.choice(MONOCYTE_images)\n",
    "            img= function(img)\n",
    "            MON_name.append(img)\n",
    "            img1=cv2.cvtColor(img,cv2.COLOR_RGB2GRAY)\n",
    "           # kernal=cv2.getGaborKernel((40,40),sigma,theta,lamda,gamma,phi,ktype=cv2.CV_32F)\n",
    "           # fimg=cv2.filter2D(img1,cv2.CV_8UC3,kernal)\n",
    "            resized = cv2.resize(img1, (128,128))\n",
    "            refigm=resized.reshape(-1)\n",
    "            df[counter1]=refigm\n",
    "            augmented_images_cat.update({counter1:\"MONOCYTE\"})\n",
    "            counter1+=1\n",
    "            MON_num+=1\n",
    "    else:\n",
    "      for cat , num in categories.items():\n",
    "        limit= num\n",
    "        cat_samples=cat_num[cat] \n",
    "        while cat_samples < limit:\n",
    "            img=  random.choice(NEUTROPHIL_images)\n",
    "            img= function(img)\n",
    "            img1=cv2.cvtColor(img,cv2.COLOR_RGB2GRAY)\n",
    "           # kernal=cv2.getGaborKernel((40,40),sigma,theta,lamda,gamma,phi,ktype=cv2.CV_32F)\n",
    "            #fimg=cv2.filter2D(img1,cv2.CV_8UC3,kernal)\n",
    "            resized = cv2.resize(img1, (128,128))\n",
    "            refigm=resized.reshape(-1)\n",
    "            df[counter1]=refigm\n",
    "            augmented_images_cat.update({counter1:cat})\n",
    "            counter1+=1\n",
    "            cat_samples+=1"
   ]
  },
  {
   "cell_type": "code",
   "execution_count": 19,
   "metadata": {
    "colab": {
     "base_uri": "https://localhost:8080/"
    },
    "execution": {
     "iopub.execute_input": "2023-01-16T09:18:17.570288Z",
     "iopub.status.busy": "2023-01-16T09:18:17.569928Z",
     "iopub.status.idle": "2023-01-16T09:18:42.883510Z",
     "shell.execute_reply": "2023-01-16T09:18:42.882354Z",
     "shell.execute_reply.started": "2023-01-16T09:18:17.570259Z"
    },
    "id": "gBm7RPezR9rL",
    "outputId": "b06519fb-aa3b-4d4b-a98d-0367c5243476"
   },
   "outputs": [
    {
     "name": "stderr",
     "output_type": "stream",
     "text": [
      "/opt/conda/lib/python3.7/site-packages/imgaug/augmenters/base.py:38: SuspiciousMultiImageShapeWarning: You provided a numpy array of shape (480, 640, 3) as a multi-image augmentation input, which was interpreted as (N, H, W). The last dimension however has value 1 or 3, which indicates that you provided a single image with shape (H, W, C) instead. If that is the case, you should use e.g. augmenter(image=<your input>) or augment_image(<your input>) -- note the singular 'image' instead of 'imageS'. Otherwise your single input image will be interpreted as multiple images of shape (H, W) during augmentation.\n",
      "  category=SuspiciousMultiImageShapeWarning)\n"
     ]
    }
   ],
   "source": [
    "#categories= {\"NEUTROPHIL\":200,\"EOSINOPHIL\":200,\"LYMPHOCYTE\":200,\"MONOCYTE\":200}\n",
    "categories= {\"all\":4000}\n",
    "aug_function=[flip,GaussianBlur,Affine,HistogramEqualization,Autocontrast,rotation,scaling,translate,FilterEdgeEnhanceMore,ChannelShuffle,MotionBlur,DirectedEdgeDetect,Clouds,Rain]\n",
    "Augmentation(categories,1000,random.choice(aug_function))\n"
   ]
  },
  {
   "cell_type": "code",
   "execution_count": 20,
   "metadata": {
    "execution": {
     "iopub.execute_input": "2023-01-16T09:18:42.885831Z",
     "iopub.status.busy": "2023-01-16T09:18:42.885480Z",
     "iopub.status.idle": "2023-01-16T09:18:43.962973Z",
     "shell.execute_reply": "2023-01-16T09:18:43.961815Z",
     "shell.execute_reply.started": "2023-01-16T09:18:42.885799Z"
    },
    "id": "yl_mQR2GzS_7"
   },
   "outputs": [
    {
     "name": "stderr",
     "output_type": "stream",
     "text": [
      "/opt/conda/lib/python3.7/site-packages/pandas/core/indexing.py:1732: SettingWithCopyWarning: \n",
      "A value is trying to be set on a copy of a slice from a DataFrame\n",
      "\n",
      "See the caveats in the documentation: https://pandas.pydata.org/pandas-docs/stable/user_guide/indexing.html#returning-a-view-versus-a-copy\n",
      "  self._setitem_single_block(indexer, value, name)\n"
     ]
    }
   ],
   "source": [
    "df= df.transpose()\n",
    "df['Category']=\"a\"\n",
    "for row in range(len(data)):\n",
    "  augmented_images_cat.update({data.Image.loc[row]:data.Category.loc[row]})\n",
    "for item,value in augmented_images_cat.items():\n",
    "    df['Category'].loc[item] = value"
   ]
  },
  {
   "cell_type": "code",
   "execution_count": 21,
   "metadata": {
    "colab": {
     "base_uri": "https://localhost:8080/"
    },
    "execution": {
     "iopub.execute_input": "2023-01-16T09:18:43.965384Z",
     "iopub.status.busy": "2023-01-16T09:18:43.964950Z",
     "iopub.status.idle": "2023-01-16T09:18:43.973869Z",
     "shell.execute_reply": "2023-01-16T09:18:43.973066Z",
     "shell.execute_reply.started": "2023-01-16T09:18:43.965331Z"
    },
    "id": "3OjzurHHU-UR",
    "outputId": "81dfc220-a54b-4c34-d691-414499ba2771"
   },
   "outputs": [
    {
     "data": {
      "text/plain": [
       "NEUTROPHIL    200\n",
       "EOSINOPHIL    200\n",
       "MONOCYTE      200\n",
       "LYMPHOCYTE    200\n",
       "Name: Category, dtype: int64"
      ]
     },
     "execution_count": 21,
     "metadata": {},
     "output_type": "execute_result"
    }
   ],
   "source": [
    "df.Category.value_counts()"
   ]
  },
  {
   "cell_type": "code",
   "execution_count": 22,
   "metadata": {
    "execution": {
     "iopub.execute_input": "2023-01-16T09:18:43.976930Z",
     "iopub.status.busy": "2023-01-16T09:18:43.975856Z",
     "iopub.status.idle": "2023-01-16T09:18:43.988047Z",
     "shell.execute_reply": "2023-01-16T09:18:43.986850Z",
     "shell.execute_reply.started": "2023-01-16T09:18:43.976879Z"
    },
    "id": "Z_EYPIm_Id1S"
   },
   "outputs": [
    {
     "data": {
      "text/plain": [
       "'\\ndef Augmentation(path, trans, aug):\\n    count1 = 208\\n    count2 = 0\\n    for key, val in aug.items():\\n        filename = new_df[new_df[\\'label\\']==str(key)][\\'filename\\'].values.tolist()\\n        for pic in range(int(val)):\\n            item = random.choice(filename)\\n            my_pic = im.open(\"Images/Images/\"+str(item))\\n            my_pic = np.array(my_pic)\\n            transform = trans(image=my_pic)[\"image\"]\\n            img_transform =im.fromarray(transform)\\n            img_transform.save(path+str(key)+\"/BloodImage_00\"+str(1000+count2)+\".jpg\")\\n            count1+=1\\n     \\xa0\\xa0\\xa0\\xa0\\xa0\\xa0\\xa0count2+=1\\n\\n'"
      ]
     },
     "execution_count": 22,
     "metadata": {},
     "output_type": "execute_result"
    }
   ],
   "source": [
    "\"\"\"\n",
    "def Augmentation(path, trans, aug):\n",
    "    count1 = 208\n",
    "    count2 = 0\n",
    "    for key, val in aug.items():\n",
    "        filename = new_df[new_df['label']==str(key)]['filename'].values.tolist()\n",
    "        for pic in range(int(val)):\n",
    "            item = random.choice(filename)\n",
    "            my_pic = im.open(\"Images/Images/\"+str(item))\n",
    "            my_pic = np.array(my_pic)\n",
    "            transform = trans(image=my_pic)[\"image\"]\n",
    "            img_transform =im.fromarray(transform)\n",
    "            img_transform.save(path+str(key)+\"/BloodImage_00\"+str(1000+count2)+\".jpg\")\n",
    "            count1+=1\n",
    "            count2+=1\n",
    "\n",
    "\"\"\""
   ]
  },
  {
   "cell_type": "code",
   "execution_count": 23,
   "metadata": {
    "colab": {
     "base_uri": "https://localhost:8080/"
    },
    "execution": {
     "iopub.execute_input": "2023-01-16T09:18:43.990106Z",
     "iopub.status.busy": "2023-01-16T09:18:43.989612Z",
     "iopub.status.idle": "2023-01-16T09:18:44.002550Z",
     "shell.execute_reply": "2023-01-16T09:18:44.001763Z",
     "shell.execute_reply.started": "2023-01-16T09:18:43.990065Z"
    },
    "id": "MlzMv8nBc0Ym",
    "outputId": "4878db6d-ba9c-4c04-d551-786a9e3f1f96"
   },
   "outputs": [
    {
     "data": {
      "text/plain": [
       "'\\naugmented_images_EOS = []\\ncounter1=1000\\naugmented_images = augmentation(images=EOSINOPHIL_images)\\nfor img in augmented_images:\\n    img1=cv2.cvtColor(img,cv2.COLOR_RGB2GRAY)\\n    kernal=cv2.getGaborKernel((40,40),sigma,theta,lamda,gamma,phi,ktype=cv2.CV_32F)\\n    fimg=cv2.filter2D(img1,cv2.CV_8UC3,kernal)\\n    refigm=list(fimg.reshape(-1))\\n    augmented_images_EOS.append(refigm)\\n    df[counter1]=refigm\\n    counter1+=1\\n    '"
      ]
     },
     "execution_count": 23,
     "metadata": {},
     "output_type": "execute_result"
    }
   ],
   "source": [
    "\"\"\"\n",
    "augmented_images_EOS = []\n",
    "counter1=1000\n",
    "augmented_images = augmentation(images=EOSINOPHIL_images)\n",
    "for img in augmented_images:\n",
    "    img1=cv2.cvtColor(img,cv2.COLOR_RGB2GRAY)\n",
    "    kernal=cv2.getGaborKernel((40,40),sigma,theta,lamda,gamma,phi,ktype=cv2.CV_32F)\n",
    "    fimg=cv2.filter2D(img1,cv2.CV_8UC3,kernal)\n",
    "    refigm=list(fimg.reshape(-1))\n",
    "    augmented_images_EOS.append(refigm)\n",
    "    df[counter1]=refigm\n",
    "    counter1+=1\n",
    "    \"\"\""
   ]
  },
  {
   "cell_type": "code",
   "execution_count": 24,
   "metadata": {
    "colab": {
     "base_uri": "https://localhost:8080/"
    },
    "execution": {
     "iopub.execute_input": "2023-01-16T09:18:44.004135Z",
     "iopub.status.busy": "2023-01-16T09:18:44.003669Z",
     "iopub.status.idle": "2023-01-16T09:18:44.017314Z",
     "shell.execute_reply": "2023-01-16T09:18:44.016188Z",
     "shell.execute_reply.started": "2023-01-16T09:18:44.004106Z"
    },
    "id": "kLG78Xid3Zlz",
    "outputId": "779e6ac1-b79d-4ddc-a1e2-84288f054dec"
   },
   "outputs": [
    {
     "data": {
      "text/plain": [
       "'augmented_images_LYM = []\\ncounter2=2000\\naugmented_images = augmentation(images=LYMPHOCYTE_images)\\nfor img in augmented_images:\\n    img1=cv2.cvtColor(img,cv2.COLOR_RGB2GRAY)\\n    kernal=cv2.getGaborKernel((40,40),sigma,theta,lamda,gamma,phi,ktype=cv2.CV_32F)\\n    fimg=cv2.filter2D(img1,cv2.CV_8UC3,kernal)\\n    refigm=list(fimg.reshape(-1))\\n    augmented_images_LYM.append(refigm)\\n    df[counter2]=refigm\\n    counter2+=1'"
      ]
     },
     "execution_count": 24,
     "metadata": {},
     "output_type": "execute_result"
    }
   ],
   "source": [
    "\n",
    "\"\"\"augmented_images_LYM = []\n",
    "counter2=2000\n",
    "augmented_images = augmentation(images=LYMPHOCYTE_images)\n",
    "for img in augmented_images:\n",
    "    img1=cv2.cvtColor(img,cv2.COLOR_RGB2GRAY)\n",
    "    kernal=cv2.getGaborKernel((40,40),sigma,theta,lamda,gamma,phi,ktype=cv2.CV_32F)\n",
    "    fimg=cv2.filter2D(img1,cv2.CV_8UC3,kernal)\n",
    "    refigm=list(fimg.reshape(-1))\n",
    "    augmented_images_LYM.append(refigm)\n",
    "    df[counter2]=refigm\n",
    "    counter2+=1\"\"\""
   ]
  },
  {
   "cell_type": "code",
   "execution_count": 25,
   "metadata": {
    "colab": {
     "base_uri": "https://localhost:8080/"
    },
    "execution": {
     "iopub.execute_input": "2023-01-16T09:18:44.019905Z",
     "iopub.status.busy": "2023-01-16T09:18:44.018923Z",
     "iopub.status.idle": "2023-01-16T09:18:44.031076Z",
     "shell.execute_reply": "2023-01-16T09:18:44.030039Z",
     "shell.execute_reply.started": "2023-01-16T09:18:44.019863Z"
    },
    "id": "ZDzbgzBT3aMk",
    "outputId": "b51dd94b-1801-45ba-a8d3-6bc3051ff44b"
   },
   "outputs": [
    {
     "data": {
      "text/plain": [
       "'augmented_images_MON = []\\ncounter3=3000\\naugmented_images = augmentation(images=MONOCYTE_images)\\nfor img in augmented_images:\\n    img1=cv2.cvtColor(img,cv2.COLOR_RGB2GRAY)\\n    kernal=cv2.getGaborKernel((40,40),sigma,theta,lamda,gamma,phi,ktype=cv2.CV_32F)\\n    fimg=cv2.filter2D(img1,cv2.CV_8UC3,kernal)\\n    refigm=list(fimg.reshape(-1))\\n    augmented_images_MON.append(refigm)\\n    df[counter3]=refigm\\n    counter3+=1'"
      ]
     },
     "execution_count": 25,
     "metadata": {},
     "output_type": "execute_result"
    }
   ],
   "source": [
    "\"\"\"augmented_images_MON = []\n",
    "counter3=3000\n",
    "augmented_images = augmentation(images=MONOCYTE_images)\n",
    "for img in augmented_images:\n",
    "    img1=cv2.cvtColor(img,cv2.COLOR_RGB2GRAY)\n",
    "    kernal=cv2.getGaborKernel((40,40),sigma,theta,lamda,gamma,phi,ktype=cv2.CV_32F)\n",
    "    fimg=cv2.filter2D(img1,cv2.CV_8UC3,kernal)\n",
    "    refigm=list(fimg.reshape(-1))\n",
    "    augmented_images_MON.append(refigm)\n",
    "    df[counter3]=refigm\n",
    "    counter3+=1\"\"\""
   ]
  },
  {
   "cell_type": "code",
   "execution_count": 26,
   "metadata": {
    "execution": {
     "iopub.execute_input": "2023-01-16T09:18:44.032698Z",
     "iopub.status.busy": "2023-01-16T09:18:44.032397Z",
     "iopub.status.idle": "2023-01-16T09:18:44.045375Z",
     "shell.execute_reply": "2023-01-16T09:18:44.044159Z",
     "shell.execute_reply.started": "2023-01-16T09:18:44.032670Z"
    },
    "id": "d9LCCO8sIvuC"
   },
   "outputs": [
    {
     "data": {
      "text/plain": [
       "'categories= {}\\ncounter1=1000\\ncounter2=2000\\ncounter3=3000\\nfor row in range(len(data)):\\n  categories.update({data.Image.loc[row]:data.Category.loc[row]})\\nfor x in augmented_images_EOS:\\n  categories.update({counter1:\"EOSINOPHIL\"})\\n  counter1+=1\\nfor y in augmented_images_LYM:\\n  categories.update({counter2:\"LYMPHOCYTE\"})\\n  counter2+=1\\nfor z in augmented_images_MON:\\n  categories.update({counter3:\"MONOCYTE\"})\\n  counter3+=1'"
      ]
     },
     "execution_count": 26,
     "metadata": {},
     "output_type": "execute_result"
    }
   ],
   "source": [
    "\"\"\"categories= {}\n",
    "counter1=1000\n",
    "counter2=2000\n",
    "counter3=3000\n",
    "for row in range(len(data)):\n",
    "  categories.update({data.Image.loc[row]:data.Category.loc[row]})\n",
    "for x in augmented_images_EOS:\n",
    "  categories.update({counter1:\"EOSINOPHIL\"})\n",
    "  counter1+=1\n",
    "for y in augmented_images_LYM:\n",
    "  categories.update({counter2:\"LYMPHOCYTE\"})\n",
    "  counter2+=1\n",
    "for z in augmented_images_MON:\n",
    "  categories.update({counter3:\"MONOCYTE\"})\n",
    "  counter3+=1\"\"\""
   ]
  },
  {
   "cell_type": "code",
   "execution_count": 27,
   "metadata": {
    "execution": {
     "iopub.execute_input": "2023-01-16T09:18:44.048102Z",
     "iopub.status.busy": "2023-01-16T09:18:44.046714Z",
     "iopub.status.idle": "2023-01-16T09:18:44.061252Z",
     "shell.execute_reply": "2023-01-16T09:18:44.060041Z",
     "shell.execute_reply.started": "2023-01-16T09:18:44.048068Z"
    },
    "id": "sB0VDJ-IPSem"
   },
   "outputs": [
    {
     "data": {
      "text/plain": [
       "'df= df.transpose()\\ndf[\\'Category\\']=\"a\"\\nfor item,value in categories.items():\\n  df[\\'Category\\'].loc[item] = value'"
      ]
     },
     "execution_count": 27,
     "metadata": {},
     "output_type": "execute_result"
    }
   ],
   "source": [
    "\"\"\"df= df.transpose()\n",
    "df['Category']=\"a\"\n",
    "for item,value in categories.items():\n",
    "  df['Category'].loc[item] = value\"\"\""
   ]
  },
  {
   "cell_type": "markdown",
   "metadata": {
    "id": "biX810bSRsQB"
   },
   "source": [
    "***\n",
    "# 4- Target Encoding\n",
    "***"
   ]
  },
  {
   "cell_type": "code",
   "execution_count": 28,
   "metadata": {
    "execution": {
     "iopub.execute_input": "2023-01-16T09:18:44.064069Z",
     "iopub.status.busy": "2023-01-16T09:18:44.063709Z",
     "iopub.status.idle": "2023-01-16T09:18:44.072164Z",
     "shell.execute_reply": "2023-01-16T09:18:44.071214Z",
     "shell.execute_reply.started": "2023-01-16T09:18:44.064039Z"
    },
    "id": "HVvttc88iEvY"
   },
   "outputs": [],
   "source": [
    "from sklearn.preprocessing import LabelEncoder\n",
    "encoder = LabelEncoder()\n",
    "df['Category']=encoder.fit_transform(df['Category'])"
   ]
  },
  {
   "cell_type": "markdown",
   "metadata": {
    "id": "8e2iRcrgTXo6"
   },
   "source": [
    "***\n",
    "# 5- Split & Train Model\n",
    "***"
   ]
  },
  {
   "cell_type": "code",
   "execution_count": 29,
   "metadata": {
    "execution": {
     "iopub.execute_input": "2023-01-16T09:18:44.073636Z",
     "iopub.status.busy": "2023-01-16T09:18:44.073334Z",
     "iopub.status.idle": "2023-01-16T09:18:44.184494Z",
     "shell.execute_reply": "2023-01-16T09:18:44.183242Z",
     "shell.execute_reply.started": "2023-01-16T09:18:44.073608Z"
    },
    "id": "JEP9c9wgpQXu"
   },
   "outputs": [],
   "source": [
    "df_target= df[\"Category\"]\n",
    "df.drop(\"Category\",axis=1,inplace=True)\n",
    "x_train,x_test,y_train, y_test = train_test_split(df.values,df_target.values, test_size=0.2)\n"
   ]
  },
  {
   "cell_type": "code",
   "execution_count": 30,
   "metadata": {
    "execution": {
     "iopub.execute_input": "2023-01-16T09:18:44.186142Z",
     "iopub.status.busy": "2023-01-16T09:18:44.185809Z",
     "iopub.status.idle": "2023-01-16T09:18:46.961338Z",
     "shell.execute_reply": "2023-01-16T09:18:46.959702Z",
     "shell.execute_reply.started": "2023-01-16T09:18:44.186112Z"
    }
   },
   "outputs": [],
   "source": [
    "from sklearn.decomposition import PCA\n",
    "pca = PCA()\n",
    "#\n",
    "# Determine transformed features\n",
    "#\n",
    "X_train_prepared = pca.fit_transform(x_train)\n",
    "X_val_prepared = pca.transform(x_test)"
   ]
  },
  {
   "cell_type": "markdown",
   "metadata": {},
   "source": [
    "# XGB"
   ]
  },
  {
   "cell_type": "code",
   "execution_count": 31,
   "metadata": {
    "execution": {
     "iopub.execute_input": "2023-01-16T09:18:46.964989Z",
     "iopub.status.busy": "2023-01-16T09:18:46.963887Z",
     "iopub.status.idle": "2023-01-16T09:18:51.568330Z",
     "shell.execute_reply": "2023-01-16T09:18:51.567427Z",
     "shell.execute_reply.started": "2023-01-16T09:18:46.964926Z"
    }
   },
   "outputs": [
    {
     "data": {
      "text/plain": [
       "XGBClassifier(base_score=0.5, booster='gbtree', callbacks=None,\n",
       "              colsample_bylevel=1, colsample_bynode=1, colsample_bytree=1,\n",
       "              early_stopping_rounds=None, enable_categorical=False,\n",
       "              eval_metric=None, gamma=0, gpu_id=-1, grow_policy='depthwise',\n",
       "              importance_type=None, interaction_constraints='',\n",
       "              learning_rate=0.300000012, max_bin=256, max_cat_to_onehot=4,\n",
       "              max_delta_step=0, max_depth=6, max_leaves=0, min_child_weight=1,\n",
       "              missing=nan, monotone_constraints='()', n_estimators=100,\n",
       "              n_jobs=0, num_parallel_tree=1, objective='multi:softprob',\n",
       "              predictor='auto', random_state=0, reg_alpha=0, ...)"
      ]
     },
     "execution_count": 31,
     "metadata": {},
     "output_type": "execute_result"
    }
   ],
   "source": [
    "xgb=XGBClassifier()\n",
    "xgb.fit(X_train_prepared,y_train)"
   ]
  },
  {
   "cell_type": "code",
   "execution_count": 32,
   "metadata": {
    "execution": {
     "iopub.execute_input": "2023-01-16T09:18:51.573153Z",
     "iopub.status.busy": "2023-01-16T09:18:51.572036Z",
     "iopub.status.idle": "2023-01-16T09:18:51.593534Z",
     "shell.execute_reply": "2023-01-16T09:18:51.592577Z",
     "shell.execute_reply.started": "2023-01-16T09:18:51.573099Z"
    }
   },
   "outputs": [
    {
     "name": "stdout",
     "output_type": "stream",
     "text": [
      "              precision    recall  f1-score   support\n",
      "\n",
      "           0       0.77      0.59      0.67        46\n",
      "           1       1.00      0.80      0.89        25\n",
      "           2       1.00      0.88      0.93        48\n",
      "           3       0.59      0.90      0.71        41\n",
      "\n",
      "    accuracy                           0.79       160\n",
      "   macro avg       0.84      0.79      0.80       160\n",
      "weighted avg       0.83      0.79      0.79       160\n",
      "\n"
     ]
    }
   ],
   "source": [
    "y_pred = xgb.predict(X_val_prepared)\n",
    "score = classification_report(y_test, y_pred)\n",
    "print(score)"
   ]
  },
  {
   "cell_type": "code",
   "execution_count": 33,
   "metadata": {
    "execution": {
     "iopub.execute_input": "2023-01-16T09:18:51.596245Z",
     "iopub.status.busy": "2023-01-16T09:18:51.595440Z",
     "iopub.status.idle": "2023-01-16T09:18:51.959979Z",
     "shell.execute_reply": "2023-01-16T09:18:51.959055Z",
     "shell.execute_reply.started": "2023-01-16T09:18:51.596203Z"
    }
   },
   "outputs": [
    {
     "data": {
      "image/png": "[encoded data removed]",
      "text/plain": [
       "<Figure size 432x288 with 2 Axes>"
      ]
     },
     "metadata": {
      "needs_background": "light"
     },
     "output_type": "display_data"
    }
   ],
   "source": [
    "cm_display = ConfusionMatrixDisplay(confusion_matrix(y_test, y_pred)).plot()"
   ]
  }
 ],
 "metadata": {
  "colab": {
   "collapsed_sections": [
    "fM4L5L6M-at0",
    "P5GI70wI-at2",
    "o4H2H4mfRjTx",
    "biX810bSRsQB"
   ],
   "provenance": []
  },
  "gpuClass": "standard",
  "kernelspec": {
   "display_name": "Python 3 (ipykernel)",
   "language": "python",
   "name": "python3"
  },
  "language_info": {
   "codemirror_mode": {
    "name": "ipython",
    "version": 3
   },
   "file_extension": ".py",
   "mimetype": "text/x-python",
   "name": "python",
   "nbconvert_exporter": "python",
   "pygments_lexer": "ipython3",
   "version": "3.9.13"
  }
 },
 "nbformat": 4,
 "nbformat_minor": 4
}
